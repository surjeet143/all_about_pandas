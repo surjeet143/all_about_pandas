{
 "cells": [
  {
   "cell_type": "markdown",
   "metadata": {},
   "source": [
    "#  Introduction \n",
    "Working with data is most exciting job in 21st century. With this easily accessible internet technolgy and with abundance of data and freely available online sources to boost data anlysis skils available out there it has become easier for most of the people to dive in this field for either swithching to this career or accelerating present job or even for interest to invest in stock market. Understanding data and making inference out of it takes experience and a right track for starters. In this tutorial we will cover topics from as basic as dissecting data to advance as faster and parallel execution with \"Ray\" variant of Pandas."
   ]
  },
  {
   "cell_type": "code",
   "execution_count": 2,
   "metadata": {
    "collapsed": true
   },
   "outputs": [],
   "source": [
    "#import pandas and numpy\n",
    "import pandas as pd\n",
    "import numpy as np\n"
   ]
  },
  {
   "cell_type": "markdown",
   "metadata": {},
   "source": [
    "### Import BlackRock past one year Dataset (15 April 2018- 10 May 2019). This data is available in data folder. Some changes have been made in this data for this tutorial. ###"
   ]
  },
  {
   "cell_type": "code",
   "execution_count": 3,
   "metadata": {
    "collapsed": true
   },
   "outputs": [],
   "source": [
    "data = pd.read_csv('./data/BLK.csv')                            #change your path \n"
   ]
  },
  {
   "cell_type": "code",
   "execution_count": 4,
   "metadata": {},
   "outputs": [
    {
     "data": {
      "text/plain": [
       "(19, 7)"
      ]
     },
     "execution_count": 4,
     "metadata": {},
     "output_type": "execute_result"
    }
   ],
   "source": [
    "data.shape          # prints (rows,columns)"
   ]
  },
  {
   "cell_type": "markdown",
   "metadata": {},
   "source": [
    "Have understanding of data columns, data values by printing few entries. Following code prints first five examples of dataset. There are three things in dataframe to be taken care of for data crunching\n",
    "\n",
    "* Index\n",
    "* Columns\n",
    "* Data values\n",
    "\n",
    "Index and Column names make it easier to access a particular entry or subset of data."
   ]
  },
  {
   "cell_type": "code",
   "execution_count": 5,
   "metadata": {},
   "outputs": [
    {
     "data": {
      "text/html": [
       "<div>\n",
       "<style>\n",
       "    .dataframe thead tr:only-child th {\n",
       "        text-align: right;\n",
       "    }\n",
       "\n",
       "    .dataframe thead th {\n",
       "        text-align: left;\n",
       "    }\n",
       "\n",
       "    .dataframe tbody tr th {\n",
       "        vertical-align: top;\n",
       "    }\n",
       "</style>\n",
       "<table border=\"1\" class=\"dataframe\">\n",
       "  <thead>\n",
       "    <tr style=\"text-align: right;\">\n",
       "      <th></th>\n",
       "      <th>Date</th>\n",
       "      <th>Open</th>\n",
       "      <th>High</th>\n",
       "      <th>Low</th>\n",
       "      <th>Close</th>\n",
       "      <th>Adj Close</th>\n",
       "      <th>Volume</th>\n",
       "    </tr>\n",
       "  </thead>\n",
       "  <tbody>\n",
       "    <tr>\n",
       "      <th>0</th>\n",
       "      <td>4/15/2019</td>\n",
       "      <td>456.359985</td>\n",
       "      <td>457.100006</td>\n",
       "      <td>449.769989</td>\n",
       "      <td>451.859985</td>\n",
       "      <td>451.859985</td>\n",
       "      <td>590800</td>\n",
       "    </tr>\n",
       "    <tr>\n",
       "      <th>1</th>\n",
       "      <td>4/16/2019</td>\n",
       "      <td>453.100006</td>\n",
       "      <td>466.890015</td>\n",
       "      <td>453.000000</td>\n",
       "      <td>466.540009</td>\n",
       "      <td>466.540009</td>\n",
       "      <td>1030700</td>\n",
       "    </tr>\n",
       "    <tr>\n",
       "      <th>2</th>\n",
       "      <td>4/17/2019</td>\n",
       "      <td>466.980011</td>\n",
       "      <td>468.779999</td>\n",
       "      <td>462.420013</td>\n",
       "      <td>467.489990</td>\n",
       "      <td>467.489990</td>\n",
       "      <td>628200</td>\n",
       "    </tr>\n",
       "    <tr>\n",
       "      <th>3</th>\n",
       "      <td>4/18/2019</td>\n",
       "      <td>468.779999</td>\n",
       "      <td>469.369995</td>\n",
       "      <td>465.690002</td>\n",
       "      <td>465.690002</td>\n",
       "      <td>465.690002</td>\n",
       "      <td>530400</td>\n",
       "    </tr>\n",
       "    <tr>\n",
       "      <th>4</th>\n",
       "      <td>4/22/2019</td>\n",
       "      <td>463.750000</td>\n",
       "      <td>465.660004</td>\n",
       "      <td>462.149994</td>\n",
       "      <td>464.019989</td>\n",
       "      <td>464.019989</td>\n",
       "      <td>432900</td>\n",
       "    </tr>\n",
       "  </tbody>\n",
       "</table>\n",
       "</div>"
      ],
      "text/plain": [
       "        Date        Open        High         Low       Close   Adj Close  \\\n",
       "0  4/15/2019  456.359985  457.100006  449.769989  451.859985  451.859985   \n",
       "1  4/16/2019  453.100006  466.890015  453.000000  466.540009  466.540009   \n",
       "2  4/17/2019  466.980011  468.779999  462.420013  467.489990  467.489990   \n",
       "3  4/18/2019  468.779999  469.369995  465.690002  465.690002  465.690002   \n",
       "4  4/22/2019  463.750000  465.660004  462.149994  464.019989  464.019989   \n",
       "\n",
       "    Volume  \n",
       "0   590800  \n",
       "1  1030700  \n",
       "2   628200  \n",
       "3   530400  \n",
       "4   432900  "
      ]
     },
     "execution_count": 5,
     "metadata": {},
     "output_type": "execute_result"
    }
   ],
   "source": [
    "data.head()         #prints 0-4 examples of data frame\n",
    "# data.tail()       # prints last five entries of data "
   ]
  },
  {
   "cell_type": "markdown",
   "metadata": {},
   "source": [
    "In case, we required to print more rows then we can pass and argument to the head."
   ]
  },
  {
   "cell_type": "code",
   "execution_count": 6,
   "metadata": {},
   "outputs": [
    {
     "data": {
      "text/html": [
       "<div>\n",
       "<style>\n",
       "    .dataframe thead tr:only-child th {\n",
       "        text-align: right;\n",
       "    }\n",
       "\n",
       "    .dataframe thead th {\n",
       "        text-align: left;\n",
       "    }\n",
       "\n",
       "    .dataframe tbody tr th {\n",
       "        vertical-align: top;\n",
       "    }\n",
       "</style>\n",
       "<table border=\"1\" class=\"dataframe\">\n",
       "  <thead>\n",
       "    <tr style=\"text-align: right;\">\n",
       "      <th></th>\n",
       "      <th>Date</th>\n",
       "      <th>Open</th>\n",
       "      <th>High</th>\n",
       "      <th>Low</th>\n",
       "      <th>Close</th>\n",
       "      <th>Adj Close</th>\n",
       "      <th>Volume</th>\n",
       "    </tr>\n",
       "  </thead>\n",
       "  <tbody>\n",
       "    <tr>\n",
       "      <th>0</th>\n",
       "      <td>4/15/2019</td>\n",
       "      <td>456.359985</td>\n",
       "      <td>457.100006</td>\n",
       "      <td>449.769989</td>\n",
       "      <td>451.859985</td>\n",
       "      <td>451.859985</td>\n",
       "      <td>590800</td>\n",
       "    </tr>\n",
       "    <tr>\n",
       "      <th>1</th>\n",
       "      <td>4/16/2019</td>\n",
       "      <td>453.100006</td>\n",
       "      <td>466.890015</td>\n",
       "      <td>453.000000</td>\n",
       "      <td>466.540009</td>\n",
       "      <td>466.540009</td>\n",
       "      <td>1030700</td>\n",
       "    </tr>\n",
       "    <tr>\n",
       "      <th>2</th>\n",
       "      <td>4/17/2019</td>\n",
       "      <td>466.980011</td>\n",
       "      <td>468.779999</td>\n",
       "      <td>462.420013</td>\n",
       "      <td>467.489990</td>\n",
       "      <td>467.489990</td>\n",
       "      <td>628200</td>\n",
       "    </tr>\n",
       "    <tr>\n",
       "      <th>3</th>\n",
       "      <td>4/18/2019</td>\n",
       "      <td>468.779999</td>\n",
       "      <td>469.369995</td>\n",
       "      <td>465.690002</td>\n",
       "      <td>465.690002</td>\n",
       "      <td>465.690002</td>\n",
       "      <td>530400</td>\n",
       "    </tr>\n",
       "    <tr>\n",
       "      <th>4</th>\n",
       "      <td>4/22/2019</td>\n",
       "      <td>463.750000</td>\n",
       "      <td>465.660004</td>\n",
       "      <td>462.149994</td>\n",
       "      <td>464.019989</td>\n",
       "      <td>464.019989</td>\n",
       "      <td>432900</td>\n",
       "    </tr>\n",
       "    <tr>\n",
       "      <th>5</th>\n",
       "      <td>4/23/2019</td>\n",
       "      <td>464.000000</td>\n",
       "      <td>474.029999</td>\n",
       "      <td>463.899994</td>\n",
       "      <td>474.029999</td>\n",
       "      <td>474.029999</td>\n",
       "      <td>687400</td>\n",
       "    </tr>\n",
       "    <tr>\n",
       "      <th>6</th>\n",
       "      <td>4/24/2019</td>\n",
       "      <td>474.029999</td>\n",
       "      <td>482.369995</td>\n",
       "      <td>472.609985</td>\n",
       "      <td>480.170013</td>\n",
       "      <td>480.170013</td>\n",
       "      <td>1008500</td>\n",
       "    </tr>\n",
       "    <tr>\n",
       "      <th>7</th>\n",
       "      <td>4/25/2019</td>\n",
       "      <td>477.890015</td>\n",
       "      <td>480.480011</td>\n",
       "      <td>472.609985</td>\n",
       "      <td>474.450012</td>\n",
       "      <td>474.450012</td>\n",
       "      <td>598700</td>\n",
       "    </tr>\n",
       "    <tr>\n",
       "      <th>8</th>\n",
       "      <td>4/26/2019</td>\n",
       "      <td>475.109985</td>\n",
       "      <td>479.459991</td>\n",
       "      <td>471.850006</td>\n",
       "      <td>478.980011</td>\n",
       "      <td>478.980011</td>\n",
       "      <td>469000</td>\n",
       "    </tr>\n",
       "    <tr>\n",
       "      <th>9</th>\n",
       "      <td>4/29/2019</td>\n",
       "      <td>NaN</td>\n",
       "      <td>481.579987</td>\n",
       "      <td>478.609985</td>\n",
       "      <td>479.839996</td>\n",
       "      <td>479.839996</td>\n",
       "      <td>366900</td>\n",
       "    </tr>\n",
       "  </tbody>\n",
       "</table>\n",
       "</div>"
      ],
      "text/plain": [
       "        Date        Open        High         Low       Close   Adj Close  \\\n",
       "0  4/15/2019  456.359985  457.100006  449.769989  451.859985  451.859985   \n",
       "1  4/16/2019  453.100006  466.890015  453.000000  466.540009  466.540009   \n",
       "2  4/17/2019  466.980011  468.779999  462.420013  467.489990  467.489990   \n",
       "3  4/18/2019  468.779999  469.369995  465.690002  465.690002  465.690002   \n",
       "4  4/22/2019  463.750000  465.660004  462.149994  464.019989  464.019989   \n",
       "5  4/23/2019  464.000000  474.029999  463.899994  474.029999  474.029999   \n",
       "6  4/24/2019  474.029999  482.369995  472.609985  480.170013  480.170013   \n",
       "7  4/25/2019  477.890015  480.480011  472.609985  474.450012  474.450012   \n",
       "8  4/26/2019  475.109985  479.459991  471.850006  478.980011  478.980011   \n",
       "9  4/29/2019         NaN  481.579987  478.609985  479.839996  479.839996   \n",
       "\n",
       "    Volume  \n",
       "0   590800  \n",
       "1  1030700  \n",
       "2   628200  \n",
       "3   530400  \n",
       "4   432900  \n",
       "5   687400  \n",
       "6  1008500  \n",
       "7   598700  \n",
       "8   469000  \n",
       "9   366900  "
      ]
     },
     "execution_count": 6,
     "metadata": {},
     "output_type": "execute_result"
    }
   ],
   "source": [
    "data.head(10) # print first 10 rows of the datset"
   ]
  },
  {
   "cell_type": "code",
   "execution_count": 69,
   "metadata": {},
   "outputs": [
    {
     "name": "stdout",
     "output_type": "stream",
     "text": [
      "Index(['Date', 'Open', 'High', 'Low', 'Close', 'Adj Close', 'Volume'], dtype='object')\n",
      "RangeIndex(start=0, stop=19, step=1)\n"
     ]
    }
   ],
   "source": [
    "print(data.columns)        # prints data column names\n",
    "print(data.index)          # prints index name if any\n",
    "#To set index name run following\n"
   ]
  },
  {
   "cell_type": "markdown",
   "metadata": {},
   "source": [
    "Check the type of columns and indexes"
   ]
  },
  {
   "cell_type": "code",
   "execution_count": 70,
   "metadata": {},
   "outputs": [
    {
     "name": "stdout",
     "output_type": "stream",
     "text": [
      "<class 'pandas.core.indexes.base.Index'>\n",
      "<class 'pandas.core.indexes.range.RangeIndex'>\n"
     ]
    }
   ],
   "source": [
    "print(type(data.columns))\n",
    "print(type(data.index))"
   ]
  },
  {
   "cell_type": "markdown",
   "metadata": {},
   "source": [
    "Both types seem closely related, infact pandas has number of similar objects reserved for either Index or column. Both Index and columns must be some kind of Index object. \"issubclass\" buildin method shows if RangeIndex is subclass of Index. Let's check"
   ]
  },
  {
   "cell_type": "code",
   "execution_count": 71,
   "metadata": {},
   "outputs": [
    {
     "name": "stdout",
     "output_type": "stream",
     "text": [
      "True\n"
     ]
    }
   ],
   "source": [
    "print(issubclass(pd.RangeIndex, pd.Index))"
   ]
  },
  {
   "cell_type": "markdown",
   "metadata": {},
   "source": [
    "Now let's check for data types of columns"
   ]
  },
  {
   "cell_type": "code",
   "execution_count": 72,
   "metadata": {},
   "outputs": [
    {
     "data": {
      "text/plain": [
       "Date          object\n",
       "Open         float64\n",
       "High         float64\n",
       "Low          float64\n",
       "Close        float64\n",
       "Adj Close    float64\n",
       "Volume         int64\n",
       "dtype: object"
      ]
     },
     "execution_count": 72,
     "metadata": {},
     "output_type": "execute_result"
    }
   ],
   "source": [
    "data.dtypes"
   ]
  },
  {
   "cell_type": "code",
   "execution_count": 73,
   "metadata": {},
   "outputs": [
    {
     "data": {
      "text/plain": [
       "float64    5\n",
       "int64      1\n",
       "object     1\n",
       "dtype: int64"
      ]
     },
     "execution_count": 73,
     "metadata": {},
     "output_type": "execute_result"
    }
   ],
   "source": [
    "data.get_dtype_counts()      #counts of datatypes in dataframe."
   ]
  },
  {
   "cell_type": "markdown",
   "metadata": {},
   "source": [
    "** Accessing a particular entry from dataframe. **\n",
    "Python has number of in-built containers like lists, dictionary, tuple , each of which uses index to access element. In similar fashion Pandas has dataframe as complex container which uses index or column names to access data point."
   ]
  },
  {
   "cell_type": "code",
   "execution_count": 74,
   "metadata": {},
   "outputs": [
    {
     "name": "stdout",
     "output_type": "stream",
     "text": [
      "0     456.359985\n",
      "1     453.100006\n",
      "2     466.980011\n",
      "3     468.779999\n",
      "4     463.750000\n",
      "5     464.000000\n",
      "6     474.029999\n",
      "7     477.890015\n",
      "8     475.109985\n",
      "9            NaN\n",
      "10    479.739990\n",
      "11    486.839996\n",
      "12    479.510010\n",
      "13           NaN\n",
      "14    472.920013\n",
      "15    473.609985\n",
      "16    462.179993\n",
      "17    458.730011\n",
      "18    461.850006\n",
      "Name: Open, dtype: float64\n"
     ]
    }
   ],
   "source": [
    "# Access with Column name\n",
    "\n",
    "data['Open']      #fetches \"Open\" pandas series\n",
    "# one can rename this pandas series if one has to work with sigle column only\n",
    "open_data = data['Open']\n",
    "print(open_data)"
   ]
  },
  {
   "cell_type": "markdown",
   "metadata": {},
   "source": [
    "Above method is recommended but there is another dot method i.e. `data.Open` to access columns, which is quite error prone. You can not access column if the dataframe has column names with special characters and spaces in it as well as if column name is same as pandas DataFrame method name."
   ]
  },
  {
   "cell_type": "code",
   "execution_count": 75,
   "metadata": {},
   "outputs": [
    {
     "data": {
      "text/plain": [
       "Date         4/15/2019\n",
       "Open            456.36\n",
       "High             457.1\n",
       "Low             449.77\n",
       "Close           451.86\n",
       "Adj Close       451.86\n",
       "Volume          590800\n",
       "Name: 0, dtype: object"
      ]
     },
     "execution_count": 75,
     "metadata": {},
     "output_type": "execute_result"
    }
   ],
   "source": [
    "# Access complete row with index \n",
    "data.iloc[0]"
   ]
  },
  {
   "cell_type": "code",
   "execution_count": 76,
   "metadata": {},
   "outputs": [
    {
     "data": {
      "text/plain": [
       "451.85998499999994"
      ]
     },
     "execution_count": 76,
     "metadata": {},
     "output_type": "execute_result"
    }
   ],
   "source": [
    "#Access particular entry with index and column name\n",
    "data.iloc[0]['Close']"
   ]
  },
  {
   "cell_type": "markdown",
   "metadata": {},
   "source": [
    "Lets find some statistics out of above DataFrame i.e. min, max, median, mode, std, sum of `open_data` series"
   ]
  },
  {
   "cell_type": "code",
   "execution_count": 77,
   "metadata": {},
   "outputs": [
    {
     "name": "stdout",
     "output_type": "stream",
     "text": [
      "453.10000599999995\n",
      "486.839996\n",
      "469.14000023529405\n",
      "468.77999900000003\n",
      "9.335423854402823\n",
      "7975.380004\n"
     ]
    }
   ],
   "source": [
    "print(open_data.min());\n",
    "print(open_data.max());\n",
    "print(open_data.mean());\n",
    "print(open_data.median());\n",
    "print(open_data.std());\n",
    "print(open_data.sum());"
   ]
  },
  {
   "cell_type": "markdown",
   "metadata": {},
   "source": [
    "Now above statatistics could be found in one line of code i.e. `open_data.describe()`  (Please try yourself)"
   ]
  },
  {
   "cell_type": "code",
   "execution_count": 78,
   "metadata": {},
   "outputs": [
    {
     "data": {
      "text/plain": [
       "461.91600339999997"
      ]
     },
     "execution_count": 78,
     "metadata": {},
     "output_type": "execute_result"
    }
   ],
   "source": [
    "# get 0.2 quantile out of data\n",
    "open_data.quantile(0.2)"
   ]
  },
  {
   "cell_type": "code",
   "execution_count": 79,
   "metadata": {},
   "outputs": [
    {
     "name": "stdout",
     "output_type": "stream",
     "text": [
      "2\n"
     ]
    }
   ],
   "source": [
    "# check if any null value\n",
    "open_data.isnull()\n",
    "\n",
    "'''\n",
    "out []\n",
    "\n",
    "0     False\n",
    "1     False\n",
    "2     False\n",
    "3     False\n",
    "4     False\n",
    "5     False\n",
    "6     False\n",
    "7     False\n",
    "8     False\n",
    "9     False\n",
    "10    False\n",
    "11    False\n",
    "12    False\n",
    "13    False\n",
    "14    False\n",
    "15    False\n",
    "16    False\n",
    "17    False\n",
    "18    False\n",
    "Name: Open, dtype: bool\n",
    "'''\n",
    "\n",
    "# or\n",
    "total_number_of_nulls = sum(open_data.isnull())\n",
    "print(total_number_of_nulls)"
   ]
  },
  {
   "cell_type": "markdown",
   "metadata": {},
   "source": [
    "Fill NaNs with some number, Now this some number depends on business cases corresponsing data would have. Lets fill it with 0\n",
    "for now"
   ]
  },
  {
   "cell_type": "code",
   "execution_count": 80,
   "metadata": {},
   "outputs": [
    {
     "name": "stdout",
     "output_type": "stream",
     "text": [
      "0\n"
     ]
    }
   ],
   "source": [
    "filled_open_data = open_data.fillna(0)\n",
    "# to fill NaNs of specific type say int, run following command\n",
    "\n",
    "\n",
    "fill_open_data = open_data.fillna(0).astype(int)\n",
    "# check if any NaNs now?\n",
    "print(sum(filled_open_data.isnull()))"
   ]
  },
  {
   "cell_type": "markdown",
   "metadata": {},
   "source": [
    "If one has enough data and information would not be lost much then one can drop particular row which is having null value."
   ]
  },
  {
   "cell_type": "code",
   "execution_count": 81,
   "metadata": {},
   "outputs": [
    {
     "data": {
      "text/plain": [
       "0    456.359985\n",
       "1    453.100006\n",
       "2    466.980011\n",
       "3    468.779999\n",
       "4    463.750000\n",
       "Name: Open, dtype: float64"
      ]
     },
     "execution_count": 81,
     "metadata": {},
     "output_type": "execute_result"
    }
   ],
   "source": [
    "dropped_open_data = open_data.dropna()\n",
    "dropped_open_data.head()"
   ]
  },
  {
   "cell_type": "markdown",
   "metadata": {},
   "source": [
    "Arithmetic Operations can be applied on Pandas series like positive, multiply, divide."
   ]
  },
  {
   "cell_type": "code",
   "execution_count": 82,
   "metadata": {},
   "outputs": [
    {
     "name": "stdout",
     "output_type": "stream",
     "text": [
      "0    457.359985\n",
      "1    454.100006\n",
      "2    467.980011\n",
      "3    469.779999\n",
      "4    464.750000\n",
      "Name: Open, dtype: float64\n",
      "0    912.719970\n",
      "1    906.200012\n",
      "2    933.960022\n",
      "3    937.559998\n",
      "4    927.500000\n",
      "Name: Open, dtype: float64\n"
     ]
    }
   ],
   "source": [
    "# addition of 1 in dropped_open_data column\n",
    "\n",
    "add_dod = dropped_open_data + 1\n",
    "mul_dod = dropped_open_data * 2\n",
    "divide_dod = dropped_open_data // 3\n",
    "\n",
    "print(add_dod.head())\n",
    "print(mul_dod.head())"
   ]
  },
  {
   "cell_type": "markdown",
   "metadata": {},
   "source": [
    "Following are three methods to change column names of dataframe"
   ]
  },
  {
   "cell_type": "code",
   "execution_count": 83,
   "metadata": {
    "collapsed": true
   },
   "outputs": [],
   "source": [
    "#Rename column names in pandas make list of new names and replace inplace with new names\n",
    "\n",
    "#columns = ['date', 'open', 'high', 'low', 'close', 'Adj_close', 'vol']\n",
    "#data.columns = columns\n",
    "\n",
    "# rename and create new Dataframe\n",
    "df = data.rename(columns={'Date': 'date', 'Open': 'open','High': 'high', 'Low':'low', 'Close':'close','Adj Close':'Adj_close','Volume':'vol'})\n",
    "\n",
    "# Or rename the existing DataFrame (rather than creating a copy) \n",
    "#data.rename(columns={'Date': 'date', 'Open': 'open','High': 'high', 'Low':'low', 'Close':'close','Adj Close':'Adj_close','Volume':'vol'}, inplace=True)"
   ]
  },
  {
   "cell_type": "markdown",
   "metadata": {},
   "source": [
    "Creating new column"
   ]
  },
  {
   "cell_type": "code",
   "execution_count": 84,
   "metadata": {},
   "outputs": [
    {
     "name": "stdout",
     "output_type": "stream",
     "text": [
      "data columns after adding new column are : Index(['Date', 'Open', 'High', 'Low', 'Close', 'Adj Close', 'Volume',\n",
      "       'zero_risk'],\n",
      "      dtype='object')\n"
     ]
    }
   ],
   "source": [
    "# create new column with entries 0 (easiest one)\n",
    "data['zero_risk'] = 0\n",
    "#check column names in dataframe now\n",
    "print('data columns after adding new column are :',data.columns)\n"
   ]
  }
 ],
 "metadata": {
  "kernelspec": {
   "display_name": "Python 3",
   "language": "python",
   "name": "python3"
  },
  "language_info": {
   "codemirror_mode": {
    "name": "ipython",
    "version": 3
   },
   "file_extension": ".py",
   "mimetype": "text/x-python",
   "name": "python",
   "nbconvert_exporter": "python",
   "pygments_lexer": "ipython3",
   "version": "3.6.2"
  }
 },
 "nbformat": 4,
 "nbformat_minor": 2
}
